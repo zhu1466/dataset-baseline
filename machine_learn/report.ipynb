{
 "cells": [
  {
   "cell_type": "markdown",
   "metadata": {},
   "source": [
    "# 1. 文件结构"
   ]
  },
  {
   "cell_type": "markdown",
   "metadata": {},
   "source": [
    "File/FileDir| Description\n",
    "-|-\n",
    "data_clean.py|数据清洗\n",
    "model_tuning.py|模型调参\n",
    "models.py|常见的机器学习算法\n",
    "mlp.py|深度学习模型\n",
    "utils.py|工具函数\n",
    "report.ipynb|展示文件\n",
    "main.py|主函数\n",
    "configs|数据清洗参数 模型参数\n",
    "data|所用数据\n",
    "model_performance_images|模型表现截图"
   ]
  },
  {
   "cell_type": "markdown",
   "metadata": {},
   "source": [
    "# 2.数据预处理\n",
    "## 2.1. 观察数据\n",
    "使用utils.categorize_columns函数对所有的变量属性进行判断，将X划分为\"连续变量\"，“离散变量”，“字符型变量”，对其分别处理\n",
    "\n",
    "<br>2.1.1. 连续变量&离散变量</br>\n",
    "<br>对于有偏数据进行放缩</br>\n",
    "<br>2.1.2. 字符型变量</br>\n",
    "<br>对于employmentLength和subGrade进行one-hot编码，对于日期属性，鉴于其有顺序，利用utils.transform_date_to_int_by_order函数进行转化</br>\n",
    "## 2.2. 删除部分变量\n",
    "删除\"Grade\",其与“subGrade”属性有一对多关系， ”title“无意义属性\n",
    "## 2.3. 空值处理\n",
    "以众数填充数据\n",
    "## 2.4. 数据保存"
   ]
  },
  {
   "cell_type": "markdown",
   "metadata": {},
   "source": [
    "# 3. 模型调参\n",
    "用GridSearchCV进行调参，将最好的参数配置到yml文件中\n",
    "# 4. 模型表现\n",
    "用已经配置好的参数，进行整个训练集上的训练并获取测试集上的表现"
   ]
  }
 ],
 "metadata": {
  "language_info": {
   "name": "python"
  }
 },
 "nbformat": 4,
 "nbformat_minor": 2
}
