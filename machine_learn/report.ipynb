{
 "cells": [
  {
   "cell_type": "markdown",
   "metadata": {},
   "source": [
    "# 数据预处理\n",
    "# 模型调参\n",
    "# 模型表现\n"
   ]
  },
  {
   "cell_type": "markdown",
   "metadata": {},
   "source": []
  },
  {
   "cell_type": "markdown",
   "metadata": {},
   "source": [
    "Model Name : Random Forest,   performance as follows  \n",
    "\n",
    "        ----Indicator name Auc :        0.7139  \n",
    "        ----Indicator name Acc :        0.8037\n",
    "        ----Indicator name Precision :  0.5876\n",
    "        ----Indicator name Recall :     0.0645\n",
    "        ----Indicator name F1 score :   0.1162"
   ]
  },
  {
   "cell_type": "markdown",
   "metadata": {},
   "source": []
  }
 ],
 "metadata": {
  "language_info": {
   "name": "python"
  }
 },
 "nbformat": 4,
 "nbformat_minor": 2
}
