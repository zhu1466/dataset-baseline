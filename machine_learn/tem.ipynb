{
 "cells": [
  {
   "cell_type": "code",
   "execution_count": 1,
   "metadata": {},
   "outputs": [],
   "source": [
    "import yaml\n",
    "data = {'decision': {'a': 1}, 'decision_tree': {'Auc': 0.7055217767832498, 'Acc': 0.8012958333333333, 'Precision': 0.5235678995860595, 'Recall': 0.08161608592481578, 'F1Score': 0.1412184185409951}}"
   ]
  },
  {
   "cell_type": "code",
   "execution_count": 2,
   "metadata": {},
   "outputs": [
    {
     "data": {
      "text/plain": [
       "{'decision': {'a': 1},\n",
       " 'decision_tree': {'Auc': 0.7055217767832498,\n",
       "  'Acc': 0.8012958333333333,\n",
       "  'Precision': 0.5235678995860595,\n",
       "  'Recall': 0.08161608592481578,\n",
       "  'F1Score': 0.1412184185409951}}"
      ]
     },
     "execution_count": 2,
     "metadata": {},
     "output_type": "execute_result"
    }
   ],
   "source": [
    "data"
   ]
  },
  {
   "cell_type": "code",
   "execution_count": 4,
   "metadata": {},
   "outputs": [],
   "source": [
    "with open('output.yml', 'w', encoding='utf-8') as file:\n",
    "    yaml.dump(data, file, default_flow_style=False, allow_unicode=True)"
   ]
  },
  {
   "cell_type": "code",
   "execution_count": null,
   "metadata": {},
   "outputs": [],
   "source": []
  }
 ],
 "metadata": {
  "kernelspec": {
   "display_name": "workspace",
   "language": "python",
   "name": "python3"
  },
  "language_info": {
   "codemirror_mode": {
    "name": "ipython",
    "version": 3
   },
   "file_extension": ".py",
   "mimetype": "text/x-python",
   "name": "python",
   "nbconvert_exporter": "python",
   "pygments_lexer": "ipython3",
   "version": "3.8.12"
  }
 },
 "nbformat": 4,
 "nbformat_minor": 2
}
