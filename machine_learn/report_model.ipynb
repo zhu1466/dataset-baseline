{
 "cells": [
  {
   "cell_type": "markdown",
   "metadata": {},
   "source": [
    "# 简介\n",
    "<br>在进行数据清洗后，需要对模型进行调参，本文只做示例，因此出于运算速度的考虑，选取了较小的数据量，进行3折训练来寻找最优参数</br>\n",
    "\n",
    "\n",
    "在实操过程中，建议使用更多数据和更高的折数"
   ]
  },
  {
   "cell_type": "code",
   "execution_count": 1,
   "metadata": {},
   "outputs": [],
   "source": [
    "import pandas as pd\n",
    "from sklearn.ensemble import RandomForestClassifier\n",
    "from sklearn.svm import SVC\n",
    "from sklearn.tree import DecisionTreeClassifier\n",
    "import xgboost as xgb\n",
    "from sklearn.model_selection import GridSearchCV\n",
    "import sys\n",
    "from utils import save_model_params_to_yml\n",
    "\n",
    "# 基本参数，实操过程建议调整\n",
    "data_ratio = 0.001       # 用data_ratio的数据选参\n",
    "cv_number = 3           # 交叉验证的折树\n",
    "\n",
    "data = pd.read_csv('data\\data_after_clean.csv', index_col=[0])\n",
    "yml_path = 'configs\\model_best_params.yml'\n",
    "columns_list = list(data.columns)\n",
    "label_column = 'isDefault'\n",
    "columns_list.remove(label_column)\n",
    "features = data[columns_list].copy()\n",
    "labels = data[label_column].copy()\n",
    "seed = 1466\n",
    "X = features[0:int(data_ratio*len(features))]\n",
    "y = labels[0:int(data_ratio*len(features))] "
   ]
  },
  {
   "cell_type": "markdown",
   "metadata": {},
   "source": [
    "### 1. 决策树"
   ]
  },
  {
   "cell_type": "code",
   "execution_count": null,
   "metadata": {},
   "outputs": [],
   "source": [
    "decision_tree = DecisionTreeClassifier()\n",
    "param_grid = {\n",
    "    'max_depth': [15, 30, 45, 60, 80], \n",
    "    'min_samples_split': [100, 200, 400, 600],\n",
    "    'min_samples_leaf': [100, 200, 400, 600],\n",
    "    'criterion': ['gini', 'entropy'],\n",
    "    'max_features': [None, 'sqrt', 'log2']\n",
    "}\n",
    "grid_search = GridSearchCV(estimator=decision_tree, param_grid=param_grid, scoring='roc_auc', cv=cv_number)\n",
    "grid_search.fit(X, y)\n",
    "print(\"Best Parameters: \", grid_search.best_params_)\n",
    "print(\"Best AUC Score: \", grid_search.best_score_)\n",
    "save_model_params_to_yml(model_name='decision_tree', model_params= grid_search.best_params_, yml_path=yml_path)"
   ]
  },
  {
   "cell_type": "markdown",
   "metadata": {},
   "source": [
    "### 2. 随机森林"
   ]
  },
  {
   "cell_type": "code",
   "execution_count": null,
   "metadata": {},
   "outputs": [],
   "source": [
    "rf_classifier = RandomForestClassifier()\n",
    "param_grid = {\n",
    "    'n_estimators': [100, 200, 300],\n",
    "    'max_depth': [15, 25, 35, 50],\n",
    "    'min_samples_split': [50, 100, 200]\n",
    "}\n",
    "grid_search = GridSearchCV(estimator=rf_classifier, param_grid=param_grid, scoring='roc_auc', cv=cv_number)\n",
    "grid_search.fit(X, y)\n",
    "print(\"Best Parameters: \", grid_search.best_params_)\n",
    "print(\"Best AUC Score: \", grid_search.best_score_)\n",
    "save_model_params_to_yml(model_name='random_forest', model_params= grid_search.best_params_,yml_path=yml_path)"
   ]
  },
  {
   "cell_type": "markdown",
   "metadata": {},
   "source": [
    "### 3. XGBoost"
   ]
  },
  {
   "cell_type": "code",
   "execution_count": null,
   "metadata": {},
   "outputs": [],
   "source": [
    "XGBoost_model = xgb.XGBClassifier()\n",
    "param_grid = {\n",
    "    'max_depth': [20, 40, 60],\n",
    "    'learning_rate': [0.1, 0.01, 0.001],\n",
    "    'n_estimators': [100, 200, 300],\n",
    "    'gamma': [0, 0.1, 0.2]\n",
    "}\n",
    "grid_search = GridSearchCV(estimator=XGBoost_model, param_grid=param_grid, scoring='roc_auc', cv=cv_number)\n",
    "grid_search.fit(X, y)\n",
    "print(\"Best Parameters: \", grid_search.best_params_)\n",
    "print(\"Best AUC Score: \", grid_search.best_score_)\n",
    "save_model_params_to_yml(model_name='XGBoost', model_params= grid_search.best_params_, yml_path=yml_path)"
   ]
  },
  {
   "cell_type": "markdown",
   "metadata": {},
   "source": [
    "#### 4. SVM"
   ]
  },
  {
   "cell_type": "code",
   "execution_count": 3,
   "metadata": {},
   "outputs": [],
   "source": [
    "SVM = SVC()\n",
    "param_grid = {\n",
    "    'C': [0.1, 1, 10],\n",
    "    'kernel': ['linear', 'rbf', 'poly'],\n",
    "    'gamma': ['scale', 'auto', 0.1],\n",
    "    'degree': [2, 3, 4],\n",
    "    'coef0': [0.0, 0.5, 1.0]\n",
    "}\n",
    "grid_search = GridSearchCV(estimator=SVM, param_grid=param_grid, scoring='roc_auc', cv=cv_number)\n",
    "grid_search.fit(X, y)\n",
    "print(\"Best Parameters: \", grid_search.best_params_)\n",
    "print(\"Best AUC Score: \", grid_search.best_score_)\n",
    "save_model_params_to_yml(model_name='SVM', model_params= grid_search.best_params_, yml_path=yml_path)"
   ]
  },
  {
   "cell_type": "markdown",
   "metadata": {},
   "source": [
    "### 5. MLP\n",
    "此模型参数以及超参数较多，经实验获得了一套表现还不错的参数，其网络结构如下图所示"
   ]
  },
  {
   "cell_type": "markdown",
   "metadata": {},
   "source": [
    "![Image](deep_learn_model_save/MLP_structure.png)"
   ]
  },
  {
   "cell_type": "markdown",
   "metadata": {},
   "source": [
    "# 模型结果\n",
    "经过上述两个过程后，已经获得了整理完成的数据和最优化模型的参数，可以运行main.py文件获得模型的运行结果，模型的最佳结果保存在outputs文件夹下，包含部分常见指标。"
   ]
  }
 ],
 "metadata": {
  "kernelspec": {
   "display_name": "workspace",
   "language": "python",
   "name": "python3"
  },
  "language_info": {
   "codemirror_mode": {
    "name": "ipython",
    "version": 3
   },
   "file_extension": ".py",
   "mimetype": "text/x-python",
   "name": "python",
   "nbconvert_exporter": "python",
   "pygments_lexer": "ipython3",
   "version": "3.8.12"
  }
 },
 "nbformat": 4,
 "nbformat_minor": 2
}
